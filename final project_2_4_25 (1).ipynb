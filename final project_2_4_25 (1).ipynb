{
 "cells": [
  {
   "cell_type": "code",
   "execution_count": 1,
   "id": "8c0ff23f-3a67-4fc4-96ed-a2abd38d1917",
   "metadata": {},
   "outputs": [],
   "source": [
    "import pandas as pd\n",
    "import numpy as np\n",
    "import matplotlib.pyplot as plt\n",
    "import seaborn as sns"
   ]
  },
  {
   "cell_type": "code",
   "execution_count": 2,
   "id": "eb9cbb8c-7097-48e9-aeb5-e0a73cf53eae",
   "metadata": {},
   "outputs": [
    {
     "name": "stdout",
     "output_type": "stream",
     "text": [
      "Index(['Dealer Code', 'Dealer Name', 'Plant Code', 'Plant Name',\n",
      "       'Gate in Reference', 'Job Card Number', 'Service Category',\n",
      "       'Service Type', 'Service Subtype', 'Creation Date', 'Closed Date',\n",
      "       'Vehicle Sales Date', 'VIN Number', 'Vehicle Model', 'Variant Code',\n",
      "       'License Plate Number', 'Point Of Contact name',\n",
      "       'Point of contact Mobile', 'Customer Name', 'Customer Mobile',\n",
      "       'Job Card Status', 'Mileage', 'Engine Hours', 'Invoice Number',\n",
      "       'Exp Del Date & Time', 'Bill to', 'Paid Contribution',\n",
      "       'Warranty Contribution', 'GW tech contribution',\n",
      "       'GW tech special contribution', 'GW Commercial contribution',\n",
      "       'GW Commercial special contribution', 'Dealer contribution',\n",
      "       'Shortage contribution', 'Damage contribution', 'Job Description',\n",
      "       'Item Number', 'Item Type', 'Material Group', 'Material Code',\n",
      "       'Causal Part', 'Labour Code', 'Item Description', 'Quantity',\n",
      "       'Target Quantity UoM', 'Split in Percent', 'Part Amount',\n",
      "       'Labour Amount', 'CGST Amount', 'SGST Amount', 'IGST Amount',\n",
      "       'Gross Amount', 'Concern Code', 'Customer voice', 'Claim Number',\n",
      "       'Source_File', 'Sheet_Name'],\n",
      "      dtype='object')\n"
     ]
    },
    {
     "name": "stderr",
     "output_type": "stream",
     "text": [
      "C:\\Users\\Dell\\AppData\\Local\\Temp\\ipykernel_10532\\2713404775.py:2: DtypeWarning: Columns (19) have mixed types. Specify dtype option on import or set low_memory=False.\n",
      "  df = pd.read_csv(\"final_project_dataset.csv\")\n"
     ]
    }
   ],
   "source": [
    "# Load the dataset\n",
    "df = pd.read_csv(\"final_project_dataset.csv\")\n",
    "print(df.columns)"
   ]
  },
  {
   "cell_type": "code",
   "execution_count": 3,
   "id": "e8125b62-d05e-4297-87b4-8b854e3ece52",
   "metadata": {},
   "outputs": [
    {
     "name": "stdout",
     "output_type": "stream",
     "text": [
      "<class 'pandas.core.frame.DataFrame'>\n",
      "RangeIndex: 59639 entries, 0 to 59638\n",
      "Data columns (total 10 columns):\n",
      " #   Column              Non-Null Count  Dtype  \n",
      "---  ------              --------------  -----  \n",
      " 0   Service Type        59585 non-null  object \n",
      " 1   Creation Date       59639 non-null  object \n",
      " 2   Vehicle Sales Date  59542 non-null  object \n",
      " 3   Vehicle Model       59639 non-null  object \n",
      " 4   Mileage             59639 non-null  int64  \n",
      " 5   Engine Hours        58993 non-null  float64\n",
      " 6   Bill to             59639 non-null  object \n",
      " 7   Part Amount         59639 non-null  float64\n",
      " 8   Labour Amount       59639 non-null  float64\n",
      " 9   Concern Code        59301 non-null  object \n",
      "dtypes: float64(3), int64(1), object(6)\n",
      "memory usage: 4.6+ MB\n",
      "None\n"
     ]
    }
   ],
   "source": [
    "# Selecting relevant columns\n",
    "columns_to_keep = ['Service Type','Creation Date','Vehicle Sales Date','Vehicle Model',\n",
    "                'Mileage', 'Engine Hours','Bill to','Part Amount',\n",
    "       'Labour Amount','Concern Code' ]\n",
    "\n",
    "df = df[columns_to_keep]\n",
    "print(df.info())"
   ]
  },
  {
   "cell_type": "code",
   "execution_count": 4,
   "id": "ff81ac65-3ee9-4e34-99c5-0fff9fe84462",
   "metadata": {},
   "outputs": [],
   "source": [
    "# # Check missing values\n",
    "# print(f\"Missing values before cleaning:\\n{df.isnull().sum()}\")"
   ]
  },
  {
   "cell_type": "code",
   "execution_count": 5,
   "id": "a33ebbc2-2b94-44c3-ad97-56ac3fa0e8f4",
   "metadata": {},
   "outputs": [],
   "source": [
    "# # Handle missing values\n",
    "# df.dropna(subset=columns_to_keep, inplace=True)\n",
    "# print(f\"\\nMissing values after cleaning:\\n{df.isnull().sum()}\")\n",
    "# print(f\"Shape after removing missing values: {df.shape}\")"
   ]
  },
  {
   "cell_type": "code",
   "execution_count": 6,
   "id": "b477f8fd-fd29-4232-a90e-762366eaa4fe",
   "metadata": {},
   "outputs": [],
   "source": [
    "# # Convert date columns to datetime\n",
    "# date_columns = [\"Creation Date\", \"Vehicle Sales Date\"]\n",
    "# for col in date_columns:\n",
    "#     df[col] = pd.to_datetime(df[col], errors='coerce')"
   ]
  },
  {
   "cell_type": "code",
   "execution_count": 7,
   "id": "030577b9-512e-4266-9beb-fab7c0e5f84b",
   "metadata": {},
   "outputs": [],
   "source": [
    "# # Drop rows with invalid dates\n",
    "# df.dropna(subset=date_columns, inplace=True)\n",
    "# print(f\"Shape after removing invalid dates: {df.shape}\")\n",
    "\n",
    "# # Feature Engineering - Extract more from dates\n",
    "# df[\"year\"] = df[\"Creation Date\"].dt.year\n",
    "# df[\"month\"] = df[\"Creation Date\"].dt.month\n",
    "# df[\"day_of_week\"] = df[\"Creation Date\"].dt.dayofweek\n",
    "# df[\"vehicle_age_days\"] = (df[\"Creation Date\"] - df[\"Vehicle Sales Date\"]).dt.days"
   ]
  },
  {
   "cell_type": "code",
   "execution_count": null,
   "id": "621ac0ce-a466-4546-b9d5-e2ed13eb29dc",
   "metadata": {},
   "outputs": [],
   "source": []
  },
  {
   "cell_type": "code",
   "execution_count": 8,
   "id": "7ec283eb-bb93-4f98-94f9-48dbc435cf5c",
   "metadata": {},
   "outputs": [
    {
     "name": "stdout",
     "output_type": "stream",
     "text": [
      "Index(['Service Type', 'Creation Date', 'Vehicle Sales Date', 'Vehicle Model',\n",
      "       'Mileage', 'Engine Hours', 'Bill to', 'Part Amount', 'Labour Amount',\n",
      "       'Concern Code'],\n",
      "      dtype='object')\n"
     ]
    }
   ],
   "source": [
    "\n",
    "# Drop columns not in the list of columns to keep\n",
    "df = df.drop(columns=[col for col in df.columns if col not in columns_to_keep])\n",
    "print(df.columns)"
   ]
  },
  {
   "cell_type": "code",
   "execution_count": 9,
   "id": "7299a90a-f426-483d-a699-38d8b8e16b26",
   "metadata": {},
   "outputs": [
    {
     "name": "stdout",
     "output_type": "stream",
     "text": [
      "Service Type           54\n",
      "Creation Date           0\n",
      "Vehicle Sales Date     97\n",
      "Vehicle Model           0\n",
      "Mileage                 0\n",
      "Engine Hours          646\n",
      "Bill to                 0\n",
      "Part Amount             0\n",
      "Labour Amount           0\n",
      "Concern Code          338\n",
      "dtype: int64\n"
     ]
    }
   ],
   "source": [
    "# Checking missing values\n",
    "print(df.isnull().sum())\n"
   ]
  },
  {
   "cell_type": "code",
   "execution_count": 10,
   "id": "fe961f52-d18b-4c87-adcc-119053fbe858",
   "metadata": {},
   "outputs": [
    {
     "name": "stdout",
     "output_type": "stream",
     "text": [
      "Service Type          0\n",
      "Creation Date         0\n",
      "Vehicle Sales Date    0\n",
      "Vehicle Model         0\n",
      "Mileage               0\n",
      "Engine Hours          0\n",
      "Bill to               0\n",
      "Part Amount           0\n",
      "Labour Amount         0\n",
      "Concern Code          0\n",
      "dtype: int64\n",
      "(58539, 10)\n"
     ]
    }
   ],
   "source": [
    "# Handling missing values\n",
    "\n",
    "df.dropna(subset=columns_to_keep, inplace=True)  # Fixing inplace assignment issue\n",
    "print(df.isnull().sum())\n",
    "print(df.shape)"
   ]
  },
  {
   "cell_type": "code",
   "execution_count": 11,
   "id": "89fb4c92-dd6a-49ff-9c1d-ee3f55d76744",
   "metadata": {},
   "outputs": [
    {
     "name": "stdout",
     "output_type": "stream",
     "text": [
      "<class 'pandas.core.frame.DataFrame'>\n",
      "Index: 58539 entries, 7 to 59638\n",
      "Data columns (total 10 columns):\n",
      " #   Column              Non-Null Count  Dtype  \n",
      "---  ------              --------------  -----  \n",
      " 0   Service Type        58539 non-null  object \n",
      " 1   Creation Date       58539 non-null  object \n",
      " 2   Vehicle Sales Date  58539 non-null  object \n",
      " 3   Vehicle Model       58539 non-null  object \n",
      " 4   Mileage             58539 non-null  int64  \n",
      " 5   Engine Hours        58539 non-null  float64\n",
      " 6   Bill to             58539 non-null  object \n",
      " 7   Part Amount         58539 non-null  float64\n",
      " 8   Labour Amount       58539 non-null  float64\n",
      " 9   Concern Code        58539 non-null  object \n",
      "dtypes: float64(3), int64(1), object(6)\n",
      "memory usage: 4.9+ MB\n",
      "None\n"
     ]
    }
   ],
   "source": [
    "print(df.info())"
   ]
  },
  {
   "cell_type": "code",
   "execution_count": 12,
   "id": "3c8afd77-4d18-4573-a01f-b7faabc5940c",
   "metadata": {},
   "outputs": [],
   "source": [
    "\n",
    "# Separating numerical and categorical columns\n",
    "\n",
    "cat_col = ['Service Type', 'Vehicle Model','Bill to', 'Concern Code']\n",
    "\n",
    "num_col = ['Mileage', 'Engine Hours', 'Part Amount', 'Labour Amount']\n",
    "\n",
    "date_columns = [\"Creation Date\", \"Vehicle Sales Date\"]\n"
   ]
  },
  {
   "cell_type": "code",
   "execution_count": 13,
   "id": "43e1e4b2-0024-4376-82fd-49950c0f8371",
   "metadata": {},
   "outputs": [
    {
     "name": "stdout",
     "output_type": "stream",
     "text": [
      "Creation Date         object\n",
      "Vehicle Sales Date    object\n",
      "dtype: object\n"
     ]
    }
   ],
   "source": [
    "print(df[date_columns].dtypes)"
   ]
  },
  {
   "cell_type": "code",
   "execution_count": 14,
   "id": "0836b6ba-ca9e-4740-b804-6b7d2d0d1455",
   "metadata": {},
   "outputs": [
    {
     "name": "stdout",
     "output_type": "stream",
     "text": [
      "Creation Date         datetime64[ns]\n",
      "Vehicle Sales Date    datetime64[ns]\n",
      "dtype: object\n"
     ]
    }
   ],
   "source": [
    "# Convert date columns to datetime\n",
    "\n",
    "for col in date_columns:\n",
    "    df[col] = pd.to_datetime(df[col], errors='coerce')\n",
    "\n",
    "# Drop rows with NaT in any date column\n",
    "df.dropna(subset=date_columns, inplace=True)\n",
    "\n",
    "# Print updated data types\n",
    "print(df[date_columns].dtypes)\n"
   ]
  },
  {
   "cell_type": "code",
   "execution_count": 15,
   "id": "791864d9-31ea-48c6-a91b-d755b12c1de7",
   "metadata": {},
   "outputs": [],
   "source": [
    "df[\"year\"]=df[\"Creation Date\"].dt.year\n",
    "df[\"month\"]=df[\"Creation Date\"].dt.month"
   ]
  },
  {
   "cell_type": "code",
   "execution_count": 16,
   "id": "5901a927-2d28-45b8-ac76-6fe7b600b3b5",
   "metadata": {},
   "outputs": [
    {
     "name": "stdout",
     "output_type": "stream",
     "text": [
      "[]\n"
     ]
    }
   ],
   "source": [
    "\n",
    "# Check for mixed data types in each column\n",
    "mixed_columns = df.apply(lambda x: len(set(x.map(type))) > 1)\n",
    "\n",
    "# Display columns with mixed data types\n",
    "print(df.columns[mixed_columns].tolist())"
   ]
  },
  {
   "cell_type": "code",
   "execution_count": 17,
   "id": "3aeeea05-c265-4542-8b41-67b59e8d6e8c",
   "metadata": {},
   "outputs": [],
   "source": [
    "from sklearn.preprocessing import LabelEncoder, OneHotEncoder\n"
   ]
  },
  {
   "cell_type": "code",
   "execution_count": 18,
   "id": "aaca3ef9-e4d3-4981-98b3-fc4993892a42",
   "metadata": {},
   "outputs": [],
   "source": [
    "# Label Encoding for 'Vehicle Model' & 'Concern Code'\n",
    "label_encoders = {}\n",
    "for col in ['Vehicle Model', 'Concern Code']:\n",
    "    le = LabelEncoder()\n",
    "    df[col] = le.fit_transform(df[col])\n",
    "    label_encoders[col] = le\n"
   ]
  },
  {
   "cell_type": "code",
   "execution_count": 19,
   "id": "be7dd2e9-5810-4f2b-bbe7-920e0f9764c2",
   "metadata": {},
   "outputs": [
    {
     "name": "stdout",
     "output_type": "stream",
     "text": [
      "       Service Type_Breakdown  Service Type_PDI-2  \\\n",
      "0                         0.0                 0.0   \n",
      "1                         0.0                 0.0   \n",
      "2                         0.0                 0.0   \n",
      "3                         0.0                 0.0   \n",
      "4                         0.0                 0.0   \n",
      "...                       ...                 ...   \n",
      "58534                     1.0                 0.0   \n",
      "58535                     1.0                 0.0   \n",
      "58536                     1.0                 0.0   \n",
      "58537                     1.0                 0.0   \n",
      "58538                     1.0                 0.0   \n",
      "\n",
      "       Service Type_Refurbuishment  Service Type_Running Repair  \\\n",
      "0                              0.0                          1.0   \n",
      "1                              0.0                          1.0   \n",
      "2                              0.0                          1.0   \n",
      "3                              0.0                          1.0   \n",
      "4                              0.0                          1.0   \n",
      "...                            ...                          ...   \n",
      "58534                          0.0                          0.0   \n",
      "58535                          0.0                          0.0   \n",
      "58536                          0.0                          0.0   \n",
      "58537                          0.0                          0.0   \n",
      "58538                          0.0                          0.0   \n",
      "\n",
      "       Service Type_Scheduled Service  Bill to_GW  Bill to_INS  Bill to_P  \\\n",
      "0                                 0.0         0.0          0.0        0.0   \n",
      "1                                 0.0         0.0          0.0        0.0   \n",
      "2                                 0.0         0.0          0.0        0.0   \n",
      "3                                 0.0         0.0          0.0        0.0   \n",
      "4                                 0.0         0.0          0.0        0.0   \n",
      "...                               ...         ...          ...        ...   \n",
      "58534                             0.0         0.0          0.0        0.0   \n",
      "58535                             0.0         0.0          0.0        0.0   \n",
      "58536                             0.0         0.0          0.0        0.0   \n",
      "58537                             0.0         0.0          0.0        0.0   \n",
      "58538                             0.0         0.0          0.0        0.0   \n",
      "\n",
      "       Bill to_PAID  Bill to_RSA  Bill to_SM  Bill to_WTY  \n",
      "0               1.0          0.0         0.0          0.0  \n",
      "1               1.0          0.0         0.0          0.0  \n",
      "2               1.0          0.0         0.0          0.0  \n",
      "3               1.0          0.0         0.0          0.0  \n",
      "4               1.0          0.0         0.0          0.0  \n",
      "...             ...          ...         ...          ...  \n",
      "58534           1.0          0.0         0.0          0.0  \n",
      "58535           1.0          0.0         0.0          0.0  \n",
      "58536           1.0          0.0         0.0          0.0  \n",
      "58537           1.0          0.0         0.0          0.0  \n",
      "58538           1.0          0.0         0.0          0.0  \n",
      "\n",
      "[58539 rows x 12 columns]\n"
     ]
    }
   ],
   "source": [
    "# One-Hot Encoding for 'Service Type' & 'Bill to'\n",
    "one_hot_encoder = OneHotEncoder(sparse_output=False, drop='first')  # drop='first' to avoid multicollinearity\n",
    "encoded_cols = one_hot_encoder.fit_transform(df[['Service Type', 'Bill to']])\n",
    "ohe_df = pd.DataFrame(encoded_cols, columns=one_hot_encoder.get_feature_names_out(['Service Type', 'Bill to']))\n",
    "print(ohe_df)"
   ]
  },
  {
   "cell_type": "code",
   "execution_count": 20,
   "id": "c9a72f8a-c714-4baa-b751-78e14b7699b4",
   "metadata": {},
   "outputs": [],
   "source": [
    "# Combine both\n",
    "final_df = pd.concat([df.drop(columns=['Service Type', 'Bill to']), ohe_df], axis=1)\n",
    "\n",
    "# Print the final DataFrame\n",
    "#print(final_df)\n",
    "df = final_df\n"
   ]
  },
  {
   "cell_type": "code",
   "execution_count": 21,
   "id": "53e8e3ef-879a-4b25-a4eb-b54326dc8515",
   "metadata": {},
   "outputs": [
    {
     "name": "stdout",
     "output_type": "stream",
     "text": [
      "<class 'pandas.core.frame.DataFrame'>\n",
      "Index: 59637 entries, 7 to 57105\n",
      "Data columns (total 22 columns):\n",
      " #   Column                          Non-Null Count  Dtype         \n",
      "---  ------                          --------------  -----         \n",
      " 0   Creation Date                   58539 non-null  datetime64[ns]\n",
      " 1   Vehicle Sales Date              58539 non-null  datetime64[ns]\n",
      " 2   Vehicle Model                   58539 non-null  float64       \n",
      " 3   Mileage                         58539 non-null  float64       \n",
      " 4   Engine Hours                    58539 non-null  float64       \n",
      " 5   Part Amount                     58539 non-null  float64       \n",
      " 6   Labour Amount                   58539 non-null  float64       \n",
      " 7   Concern Code                    58539 non-null  float64       \n",
      " 8   year                            58539 non-null  float64       \n",
      " 9   month                           58539 non-null  float64       \n",
      " 10  Service Type_Breakdown          58539 non-null  float64       \n",
      " 11  Service Type_PDI-2              58539 non-null  float64       \n",
      " 12  Service Type_Refurbuishment     58539 non-null  float64       \n",
      " 13  Service Type_Running Repair     58539 non-null  float64       \n",
      " 14  Service Type_Scheduled Service  58539 non-null  float64       \n",
      " 15  Bill to_GW                      58539 non-null  float64       \n",
      " 16  Bill to_INS                     58539 non-null  float64       \n",
      " 17  Bill to_P                       58539 non-null  float64       \n",
      " 18  Bill to_PAID                    58539 non-null  float64       \n",
      " 19  Bill to_RSA                     58539 non-null  float64       \n",
      " 20  Bill to_SM                      58539 non-null  float64       \n",
      " 21  Bill to_WTY                     58539 non-null  float64       \n",
      "dtypes: datetime64[ns](2), float64(20)\n",
      "memory usage: 10.5 MB\n"
     ]
    }
   ],
   "source": [
    "df.info()"
   ]
  },
  {
   "cell_type": "code",
   "execution_count": 22,
   "id": "2b691b8a-8a0f-4ab0-aa91-d442711c7130",
   "metadata": {},
   "outputs": [
    {
     "data": {
      "image/png": "[encoded data removed]",
      "text/plain": [
       "<Figure size 1200x600 with 4 Axes>"
      ]
     },
     "metadata": {},
     "output_type": "display_data"
    }
   ],
   "source": [
    "# Set plot style\n",
    "sns.set_style(\"whitegrid\")\n",
    "\n",
    "plt.figure(figsize=(12, 6))\n",
    "for i, col in enumerate(num_col, 1):\n",
    "    plt.subplot(2, 2, i)\n",
    "    sns.boxplot(data=df, x=col)\n",
    "    plt.title(f\"Boxplot of {col}\")\n",
    "\n",
    "plt.tight_layout()\n",
    "plt.show()\n"
   ]
  },
  {
   "cell_type": "code",
   "execution_count": 23,
   "id": "4163a4d7-3e3b-42fb-8919-ab1f19875854",
   "metadata": {},
   "outputs": [],
   "source": [
    "# Outlier Detection using IQR\n",
    "Q1 = df[num_col].quantile(0.25)\n",
    "Q3 = df[num_col].quantile(0.75)\n",
    "IQR = Q3 - Q1\n",
    "\n",
    "lower_bound = Q1 - 1.5 * IQR\n",
    "upper_bound = Q3 + 1.5 * IQR\n"
   ]
  },
  {
   "cell_type": "code",
   "execution_count": 24,
   "id": "4d1404eb-a730-470c-ae80-46d51f646733",
   "metadata": {},
   "outputs": [
    {
     "name": "stdout",
     "output_type": "stream",
     "text": [
      "Shape after outlier removal: (42558, 22)\n"
     ]
    }
   ],
   "source": [
    "# Removing outliers\n",
    "df = df[~((df[num_col] < lower_bound) | (df[num_col] > upper_bound)).any(axis=1)]\n",
    "\n",
    "print(\"Shape after outlier removal:\", df.shape)"
   ]
  },
  {
   "cell_type": "code",
   "execution_count": 25,
   "id": "0c143d38-ff0a-4cab-8df1-75af55532d30",
   "metadata": {},
   "outputs": [
    {
     "data": {
      "image/png": "[encoded data removed]",
      "text/plain": [
       "<Figure size 1200x600 with 4 Axes>"
      ]
     },
     "metadata": {},
     "output_type": "display_data"
    }
   ],
   "source": [
    "# Boxplot after outlier removal\n",
    "plt.figure(figsize=(12, 6))\n",
    "for i, col in enumerate(num_col, 1):\n",
    "    plt.subplot(2, 2, i)\n",
    "    sns.boxplot(data=df, x=col)\n",
    "    plt.title(f\"Boxplot of {col} (After Outlier Handling)\")\n",
    "\n",
    "plt.tight_layout()\n",
    "plt.show()"
   ]
  },
  {
   "cell_type": "code",
   "execution_count": 26,
   "id": "808a1ea6-cc3e-414f-8d8f-1425ebbc183d",
   "metadata": {},
   "outputs": [],
   "source": [
    "df = df.dropna()"
   ]
  },
  {
   "cell_type": "code",
   "execution_count": 27,
   "id": "56b70d93-756c-4913-bfb3-2d63339a58c7",
   "metadata": {},
   "outputs": [],
   "source": [
    "from sklearn.model_selection import train_test_split\n",
    "# Define features (X) and target variable (y)\n",
    "X = df.drop(columns=[\"Labour Amount\", \"Creation Date\", \"Vehicle Sales Date\"])  # Features\n",
    "y = df[\"Labour Amount\"]  # Target\n"
   ]
  },
  {
   "cell_type": "code",
   "execution_count": 28,
   "id": "c1e7281e-509d-40ca-8fcc-0b8662324f3b",
   "metadata": {},
   "outputs": [
    {
     "data": {
      "text/plain": [
       "((32583, 19), (8146, 19), (32583,), (8146,))"
      ]
     },
     "execution_count": 28,
     "metadata": {},
     "output_type": "execute_result"
    }
   ],
   "source": [
    "# Train-test split\n",
    "X_train, X_test, y_train, y_test = train_test_split(X, y, test_size=0.2, random_state=42)\n",
    "\n",
    "# Output dataset shapes\n",
    "X_train.shape, X_test.shape, y_train.shape, y_test.shape"
   ]
  },
  {
   "cell_type": "code",
   "execution_count": 29,
   "id": "ebe6701e-762b-4be4-ba4d-f93097ece07b",
   "metadata": {},
   "outputs": [
    {
     "name": "stdout",
     "output_type": "stream",
     "text": [
      "Feature Scaling Completed!\n"
     ]
    }
   ],
   "source": [
    "from sklearn.preprocessing import StandardScaler\n",
    "# Feature Scaling\n",
    "scaler = StandardScaler()\n",
    "X_train_scaled = pd.DataFrame(scaler.fit_transform(X_train), columns=X_train.columns)\n",
    "X_test_scaled = pd.DataFrame(scaler.transform(X_test), columns=X_test.columns)\n",
    "\n",
    "print(\"Feature Scaling Completed!\")"
   ]
  },
  {
   "cell_type": "code",
   "execution_count": 30,
   "id": "24c44740-07a8-4080-8b87-b1fc6a9d9028",
   "metadata": {},
   "outputs": [],
   "source": [
    "from sklearn.linear_model import LinearRegression\n",
    "from sklearn.metrics import mean_absolute_error, mean_squared_error, r2_score, mean_absolute_percentage_error\n"
   ]
  },
  {
   "cell_type": "code",
   "execution_count": 31,
   "id": "f6466236-6348-4f16-8e86-3fbda65b7e91",
   "metadata": {},
   "outputs": [],
   "source": [
    "# Train Linear Regression model\n",
    "lr_model = LinearRegression()\n",
    "lr_model.fit(X_train, y_train)\n",
    "\n",
    "# Make predictions\n",
    "y_pred = lr_model.predict(X_test)\n"
   ]
  },
  {
   "cell_type": "code",
   "execution_count": 32,
   "id": "c9cca450-278d-4276-bae8-2ab4c36e8563",
   "metadata": {},
   "outputs": [
    {
     "name": "stdout",
     "output_type": "stream",
     "text": [
      "0.20269569144674582\n"
     ]
    }
   ],
   "source": [
    "# Evaluate performance\n",
    "r2 = r2_score(y_test, y_pred)\n",
    "\n",
    "# Output results\n",
    "print(r2)"
   ]
  }
 ],
 "metadata": {
  "kernelspec": {
   "display_name": "Python [conda env:base] *",
   "language": "python",
   "name": "conda-base-py"
  },
  "language_info": {
   "codemirror_mode": {
    "name": "ipython",
    "version": 3
   },
   "file_extension": ".py",
   "mimetype": "text/x-python",
   "name": "python",
   "nbconvert_exporter": "python",
   "pygments_lexer": "ipython3",
   "version": "3.12.7"
  }
 },
 "nbformat": 4,
 "nbformat_minor": 5
}
