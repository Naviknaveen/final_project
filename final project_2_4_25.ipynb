{
 "cells": [
  {
   "cell_type": "code",
   "execution_count": 1,
   "id": "8c0ff23f-3a67-4fc4-96ed-a2abd38d1917",
   "metadata": {},
   "outputs": [],
   "source": [
    "import pandas as pd\n",
    "import numpy as np\n",
    "import matplotlib.pyplot as plt\n",
    "import seaborn as sns"
   ]
  },
  {
   "cell_type": "code",
   "execution_count": 2,
   "id": "eb9cbb8c-7097-48e9-aeb5-e0a73cf53eae",
   "metadata": {},
   "outputs": [
    {
     "name": "stdout",
     "output_type": "stream",
     "text": [
      "Index(['Dealer Code', 'Dealer Name', 'Plant Code', 'Plant Name',\n",
      "       'Gate in Reference', 'Job Card Number', 'Service Category',\n",
      "       'Service Type', 'Service Subtype', 'Creation Date', 'Closed Date',\n",
      "       'Vehicle Sales Date', 'VIN Number', 'Vehicle Model', 'Variant Code',\n",
      "       'License Plate Number', 'Point Of Contact name',\n",
      "       'Point of contact Mobile', 'Customer Name', 'Customer Mobile',\n",
      "       'Job Card Status', 'Mileage', 'Engine Hours', 'Invoice Number',\n",
      "       'Exp Del Date & Time', 'Bill to', 'Paid Contribution',\n",
      "       'Warranty Contribution', 'GW tech contribution',\n",
      "       'GW tech special contribution', 'GW Commercial contribution',\n",
      "       'GW Commercial special contribution', 'Dealer contribution',\n",
      "       'Shortage contribution', 'Damage contribution', 'Job Description',\n",
      "       'Item Number', 'Item Type', 'Material Group', 'Material Code',\n",
      "       'Causal Part', 'Labour Code', 'Item Description', 'Quantity',\n",
      "       'Target Quantity UoM', 'Split in Percent', 'Part Amount',\n",
      "       'Labour Amount', 'CGST Amount', 'SGST Amount', 'IGST Amount',\n",
      "       'Gross Amount', 'Concern Code', 'Customer voice', 'Claim Number',\n",
      "       'Source_File', 'Sheet_Name'],\n",
      "      dtype='object')\n"
     ]
    },
    {
     "name": "stderr",
     "output_type": "stream",
     "text": [
      "C:\\Users\\Dell\\AppData\\Local\\Temp\\ipykernel_7156\\2713404775.py:2: DtypeWarning: Columns (19) have mixed types. Specify dtype option on import or set low_memory=False.\n",
      "  df = pd.read_csv(\"final_project_dataset.csv\")\n"
     ]
    }
   ],
   "source": [
    "# Load the dataset\n",
    "df = pd.read_csv(\"final_project_dataset.csv\")\n",
    "print(df.columns)"
   ]
  },
  {
   "cell_type": "code",
   "execution_count": 3,
   "id": "e8125b62-d05e-4297-87b4-8b854e3ece52",
   "metadata": {},
   "outputs": [
    {
     "name": "stdout",
     "output_type": "stream",
     "text": [
      "<class 'pandas.core.frame.DataFrame'>\n",
      "RangeIndex: 59639 entries, 0 to 59638\n",
      "Data columns (total 10 columns):\n",
      " #   Column              Non-Null Count  Dtype  \n",
      "---  ------              --------------  -----  \n",
      " 0   Service Type        59585 non-null  object \n",
      " 1   Creation Date       59639 non-null  object \n",
      " 2   Vehicle Sales Date  59542 non-null  object \n",
      " 3   Vehicle Model       59639 non-null  object \n",
      " 4   Mileage             59639 non-null  int64  \n",
      " 5   Engine Hours        58993 non-null  float64\n",
      " 6   Bill to             59639 non-null  object \n",
      " 7   Part Amount         59639 non-null  float64\n",
      " 8   Labour Amount       59639 non-null  float64\n",
      " 9   Concern Code        59301 non-null  object \n",
      "dtypes: float64(3), int64(1), object(6)\n",
      "memory usage: 4.6+ MB\n",
      "None\n"
     ]
    }
   ],
   "source": [
    "# Selecting relevant columns\n",
    "columns_to_keep = ['Service Type','Creation Date','Vehicle Sales Date','Vehicle Model',\n",
    "                'Mileage', 'Engine Hours','Bill to','Part Amount',\n",
    "       'Labour Amount','Concern Code' ]\n",
    "print(df[columns_to_keep].info())"
   ]
  },
  {
   "cell_type": "code",
   "execution_count": 4,
   "id": "7ec283eb-bb93-4f98-94f9-48dbc435cf5c",
   "metadata": {},
   "outputs": [
    {
     "name": "stdout",
     "output_type": "stream",
     "text": [
      "Index(['Service Type', 'Creation Date', 'Vehicle Sales Date', 'Vehicle Model',\n",
      "       'Mileage', 'Engine Hours', 'Bill to', 'Part Amount', 'Labour Amount',\n",
      "       'Concern Code'],\n",
      "      dtype='object')\n"
     ]
    }
   ],
   "source": [
    "\n",
    "# Drop columns not in the list of columns to keep\n",
    "df = df.drop(columns=[col for col in df.columns if col not in columns_to_keep])\n",
    "print(df.columns)"
   ]
  },
  {
   "cell_type": "code",
   "execution_count": 5,
   "id": "7299a90a-f426-483d-a699-38d8b8e16b26",
   "metadata": {},
   "outputs": [
    {
     "name": "stdout",
     "output_type": "stream",
     "text": [
      "Service Type           54\n",
      "Creation Date           0\n",
      "Vehicle Sales Date     97\n",
      "Vehicle Model           0\n",
      "Mileage                 0\n",
      "Engine Hours          646\n",
      "Bill to                 0\n",
      "Part Amount             0\n",
      "Labour Amount           0\n",
      "Concern Code          338\n",
      "dtype: int64\n"
     ]
    }
   ],
   "source": [
    "# Checking missing values\n",
    "print(df.isnull().sum())\n"
   ]
  },
  {
   "cell_type": "code",
   "execution_count": 6,
   "id": "fe961f52-d18b-4c87-adcc-119053fbe858",
   "metadata": {},
   "outputs": [
    {
     "name": "stdout",
     "output_type": "stream",
     "text": [
      "Service Type          0\n",
      "Creation Date         0\n",
      "Vehicle Sales Date    0\n",
      "Vehicle Model         0\n",
      "Mileage               0\n",
      "Engine Hours          0\n",
      "Bill to               0\n",
      "Part Amount           0\n",
      "Labour Amount         0\n",
      "Concern Code          0\n",
      "dtype: int64\n",
      "(58539, 10)\n"
     ]
    }
   ],
   "source": [
    "# Handling missing values\n",
    "\n",
    "df.dropna(subset=columns_to_keep, inplace=True)  # Fixing inplace assignment issue\n",
    "print(df.isnull().sum())\n",
    "print(df.shape)"
   ]
  },
  {
   "cell_type": "code",
   "execution_count": 7,
   "id": "89fb4c92-dd6a-49ff-9c1d-ee3f55d76744",
   "metadata": {},
   "outputs": [
    {
     "name": "stdout",
     "output_type": "stream",
     "text": [
      "<class 'pandas.core.frame.DataFrame'>\n",
      "Index: 58539 entries, 7 to 59638\n",
      "Data columns (total 10 columns):\n",
      " #   Column              Non-Null Count  Dtype  \n",
      "---  ------              --------------  -----  \n",
      " 0   Service Type        58539 non-null  object \n",
      " 1   Creation Date       58539 non-null  object \n",
      " 2   Vehicle Sales Date  58539 non-null  object \n",
      " 3   Vehicle Model       58539 non-null  object \n",
      " 4   Mileage             58539 non-null  int64  \n",
      " 5   Engine Hours        58539 non-null  float64\n",
      " 6   Bill to             58539 non-null  object \n",
      " 7   Part Amount         58539 non-null  float64\n",
      " 8   Labour Amount       58539 non-null  float64\n",
      " 9   Concern Code        58539 non-null  object \n",
      "dtypes: float64(3), int64(1), object(6)\n",
      "memory usage: 4.9+ MB\n",
      "None\n"
     ]
    }
   ],
   "source": [
    "print(df.info())"
   ]
  },
  {
   "cell_type": "code",
   "execution_count": 8,
   "id": "3c8afd77-4d18-4573-a01f-b7faabc5940c",
   "metadata": {},
   "outputs": [],
   "source": [
    "\n",
    "# Separating numerical and categorical columns\n",
    "\n",
    "cat_col = ['Service Type', 'Vehicle Model','Bill to', 'Concern Code']\n",
    "\n",
    "num_col = ['Mileage', 'Engine Hours', 'Part Amount', 'Labour Amount']\n",
    "\n",
    "date_columns = [\"Creation Date\", \"Vehicle Sales Date\"]\n"
   ]
  },
  {
   "cell_type": "code",
   "execution_count": 9,
   "id": "43e1e4b2-0024-4376-82fd-49950c0f8371",
   "metadata": {},
   "outputs": [
    {
     "name": "stdout",
     "output_type": "stream",
     "text": [
      "Creation Date         object\n",
      "Vehicle Sales Date    object\n",
      "dtype: object\n"
     ]
    }
   ],
   "source": [
    "print(df[date_columns].dtypes)"
   ]
  },
  {
   "cell_type": "code",
   "execution_count": 10,
   "id": "0836b6ba-ca9e-4740-b804-6b7d2d0d1455",
   "metadata": {},
   "outputs": [
    {
     "name": "stdout",
     "output_type": "stream",
     "text": [
      "Creation Date         datetime64[ns]\n",
      "Vehicle Sales Date    datetime64[ns]\n",
      "dtype: object\n"
     ]
    }
   ],
   "source": [
    "# Convert date columns to datetime\n",
    "\n",
    "for col in date_columns:\n",
    "    df[col] = pd.to_datetime(df[col], errors='coerce')\n",
    "\n",
    "# Drop rows with NaT in any date column\n",
    "df.dropna(subset=date_columns, inplace=True)\n",
    "\n",
    "# Print updated data types\n",
    "print(df[date_columns].dtypes)\n"
   ]
  },
  {
   "cell_type": "code",
   "execution_count": 11,
   "id": "791864d9-31ea-48c6-a91b-d755b12c1de7",
   "metadata": {},
   "outputs": [],
   "source": [
    "df[\"year\"]=df[\"Creation Date\"].dt.year\n",
    "df[\"month\"]=df[\"Creation Date\"].dt.month"
   ]
  },
  {
   "cell_type": "code",
   "execution_count": 12,
   "id": "5901a927-2d28-45b8-ac76-6fe7b600b3b5",
   "metadata": {},
   "outputs": [
    {
     "name": "stdout",
     "output_type": "stream",
     "text": [
      "[]\n"
     ]
    }
   ],
   "source": [
    "\n",
    "# Check for mixed data types in each column\n",
    "mixed_columns = df.apply(lambda x: len(set(x.map(type))) > 1)\n",
    "\n",
    "# Display columns with mixed data types\n",
    "print(df.columns[mixed_columns].tolist())"
   ]
  },
  {
   "cell_type": "code",
   "execution_count": 13,
   "id": "3aeeea05-c265-4542-8b41-67b59e8d6e8c",
   "metadata": {},
   "outputs": [],
   "source": [
    "from sklearn.preprocessing import LabelEncoder, OneHotEncoder\n"
   ]
  },
  {
   "cell_type": "code",
   "execution_count": 42,
   "id": "aaca3ef9-e4d3-4981-98b3-fc4993892a42",
   "metadata": {},
   "outputs": [],
   "source": [
    "# Label Encoding for 'Vehicle Model' & 'Concern Code'\n",
    "label_encoders = {}\n",
    "for col in ['Vehicle Model', 'Concern Code']:\n",
    "    le = LabelEncoder()\n",
    "    df[col] = le.fit_transform(df[col])\n",
    "    label_encoders[col] = le\n"
   ]
  },
  {
   "cell_type": "code",
   "execution_count": 44,
   "id": "32d57a1f-041d-4bac-a9bb-a281e45e442d",
   "metadata": {},
   "outputs": [
    {
     "name": "stdout",
     "output_type": "stream",
     "text": [
      "[  0   1   2   3   4   5   6   7   8   9  10  11  12  13  14  15  16  17\n",
      "  18  19  20  21  22  23  24  25  26  27  28  29  30  31  32  33  34  35\n",
      "  36  37  38  39  40  41  42  43  44  45  46  47  48  49  50  51  52  53\n",
      "  54  55  56  57  58  59  60  61  62  63  64  65  66  67  68  69  70  71\n",
      "  72  73  74  75  76  77  78  79  80  81  82  83  84  85  86  87  88  89\n",
      "  90  91  92  93  94  95  96  97  98  99 100 101 102 103 104 105 106 107\n",
      " 108 109 110 111 112 113 114 115 116 117 118 119 120 121 122 123 124 125\n",
      " 126 127 128 129 130 131 132 133 134 135 136 137 138 139 140 141 142 143\n",
      " 144 145 146 147 148 149 150 151 152 153 154 155 156 157 158 159 160 161\n",
      " 162 163 164 165 166 167 168 169 170 171 172 173 174 175 176 177 178 179\n",
      " 180 181 182 183 184 185 186 187 188 189 190 191 192 193 194 195 196 197\n",
      " 198 199 200 201 202 203 204 205 206 207 208 209 210 211 212 213 214 215\n",
      " 216 217 218 219 220 221 222 223 224 225 226 227 228 229 230 231 232 233\n",
      " 234 235 236 237 238 239 240 241 242 243 244 245 246 247 248 249 250 251\n",
      " 252 253 254 255 256 257 258 259 260 261 262 263 264 265 266 267 268 269\n",
      " 270 271 272 273 274 275 276 277 278 279 280 281 282 283 284 285 286 287\n",
      " 288 289 290 291 292 293 294 295 296 297 298 299 300 301 302 303 304 305\n",
      " 306 307 308 309 310 311 312 313 314 315 316 317 318 319 320 321 322 323\n",
      " 324 325 326 327 328 329 330 331 332 333 334 335 336 337 338 339 340 341\n",
      " 342 343 344 345 346 347 348 349 350 351 352 353 354 355 356 357 358 359\n",
      " 360 361 362 363 364 365 366 367 368 369 370 371 372 373 374 375 376 377\n",
      " 378 379 380 381 382 383 384 385 386 387 388 389 390 391 392 393 394 395\n",
      " 396 397 398 399 400 401 402 403 404 405 406 407 408 409 410 411 412 413\n",
      " 414 415 416 417 418 419 420 421 422 423 424 425 426 427 428 429 430 431\n",
      " 432 433 434 435 436 437 438 439 440 441 442 443 444 445 446 447 448 449\n",
      " 450 451 452 453 454 455 456 457]\n"
     ]
    }
   ],
   "source": [
    "print(le.classes_)"
   ]
  },
  {
   "cell_type": "code",
   "execution_count": 46,
   "id": "be7dd2e9-5810-4f2b-bbe7-920e0f9764c2",
   "metadata": {},
   "outputs": [
    {
     "name": "stdout",
     "output_type": "stream",
     "text": [
      "       Service Type_Breakdown  Service Type_PDI-2  \\\n",
      "0                         0.0                 0.0   \n",
      "1                         0.0                 0.0   \n",
      "2                         0.0                 0.0   \n",
      "3                         0.0                 0.0   \n",
      "4                         0.0                 0.0   \n",
      "...                       ...                 ...   \n",
      "58534                     1.0                 0.0   \n",
      "58535                     1.0                 0.0   \n",
      "58536                     1.0                 0.0   \n",
      "58537                     1.0                 0.0   \n",
      "58538                     1.0                 0.0   \n",
      "\n",
      "       Service Type_Refurbuishment  Service Type_Running Repair  \\\n",
      "0                              0.0                          1.0   \n",
      "1                              0.0                          1.0   \n",
      "2                              0.0                          1.0   \n",
      "3                              0.0                          1.0   \n",
      "4                              0.0                          1.0   \n",
      "...                            ...                          ...   \n",
      "58534                          0.0                          0.0   \n",
      "58535                          0.0                          0.0   \n",
      "58536                          0.0                          0.0   \n",
      "58537                          0.0                          0.0   \n",
      "58538                          0.0                          0.0   \n",
      "\n",
      "       Service Type_Scheduled Service  Bill to_GW  Bill to_INS  Bill to_P  \\\n",
      "0                                 0.0         0.0          0.0        0.0   \n",
      "1                                 0.0         0.0          0.0        0.0   \n",
      "2                                 0.0         0.0          0.0        0.0   \n",
      "3                                 0.0         0.0          0.0        0.0   \n",
      "4                                 0.0         0.0          0.0        0.0   \n",
      "...                               ...         ...          ...        ...   \n",
      "58534                             0.0         0.0          0.0        0.0   \n",
      "58535                             0.0         0.0          0.0        0.0   \n",
      "58536                             0.0         0.0          0.0        0.0   \n",
      "58537                             0.0         0.0          0.0        0.0   \n",
      "58538                             0.0         0.0          0.0        0.0   \n",
      "\n",
      "       Bill to_PAID  Bill to_RSA  Bill to_SM  Bill to_WTY  \n",
      "0               1.0          0.0         0.0          0.0  \n",
      "1               1.0          0.0         0.0          0.0  \n",
      "2               1.0          0.0         0.0          0.0  \n",
      "3               1.0          0.0         0.0          0.0  \n",
      "4               1.0          0.0         0.0          0.0  \n",
      "...             ...          ...         ...          ...  \n",
      "58534           1.0          0.0         0.0          0.0  \n",
      "58535           1.0          0.0         0.0          0.0  \n",
      "58536           1.0          0.0         0.0          0.0  \n",
      "58537           1.0          0.0         0.0          0.0  \n",
      "58538           1.0          0.0         0.0          0.0  \n",
      "\n",
      "[58539 rows x 12 columns]\n"
     ]
    }
   ],
   "source": [
    "# One-Hot Encoding for 'Service Type' & 'Bill to'\n",
    "one_hot_encoder = OneHotEncoder(sparse_output=False, drop='first')  # drop='first' to avoid multicollinearity\n",
    "encoded_cols = one_hot_encoder.fit_transform(df[['Service Type', 'Bill to']])\n",
    "ohe_df = pd.DataFrame(encoded_cols, columns=one_hot_encoder.get_feature_names_out(['Service Type', 'Bill to']))\n",
    "print(ohe_df)"
   ]
  },
  {
   "cell_type": "code",
   "execution_count": 16,
   "id": "c9a72f8a-c714-4baa-b751-78e14b7699b4",
   "metadata": {},
   "outputs": [
    {
     "name": "stdout",
     "output_type": "stream",
     "text": [
      "      Creation Date Vehicle Sales Date  Vehicle Model   Mileage  Engine Hours  \\\n",
      "7        2024-09-14         2013-02-15           30.0  926872.0       26167.0   \n",
      "8        2024-09-14         2013-02-15           30.0  926872.0       26167.0   \n",
      "9        2024-09-14         2013-02-15           30.0  926872.0       26167.0   \n",
      "10       2024-09-14         2013-02-15           30.0  926872.0       26167.0   \n",
      "11       2024-09-14         2013-02-15           30.0  926872.0       26167.0   \n",
      "...             ...                ...            ...       ...           ...   \n",
      "55544           NaT                NaT            NaN       NaN           NaN   \n",
      "56464           NaT                NaT            NaN       NaN           NaN   \n",
      "56473           NaT                NaT            NaN       NaN           NaN   \n",
      "56485           NaT                NaT            NaN       NaN           NaN   \n",
      "57105           NaT                NaT            NaN       NaN           NaN   \n",
      "\n",
      "       Part Amount  Labour Amount  Concern Code    year  month  ...  \\\n",
      "7         45369.49            0.0          14.0  2024.0    9.0  ...   \n",
      "8         20261.02            0.0          14.0  2024.0    9.0  ...   \n",
      "9          3187.50            0.0          14.0  2024.0    9.0  ...   \n",
      "10        10850.85            0.0          14.0  2024.0    9.0  ...   \n",
      "11         6039.84            0.0          14.0  2024.0    9.0  ...   \n",
      "...            ...            ...           ...     ...    ...  ...   \n",
      "55544          NaN            NaN           NaN     NaN    NaN  ...   \n",
      "56464          NaN            NaN           NaN     NaN    NaN  ...   \n",
      "56473          NaN            NaN           NaN     NaN    NaN  ...   \n",
      "56485          NaN            NaN           NaN     NaN    NaN  ...   \n",
      "57105          NaN            NaN           NaN     NaN    NaN  ...   \n",
      "\n",
      "       Service Type_Refurbuishment  Service Type_Running Repair  \\\n",
      "7                              0.0                          1.0   \n",
      "8                              0.0                          1.0   \n",
      "9                              0.0                          1.0   \n",
      "10                             0.0                          1.0   \n",
      "11                             0.0                          1.0   \n",
      "...                            ...                          ...   \n",
      "55544                          0.0                          1.0   \n",
      "56464                          0.0                          0.0   \n",
      "56473                          0.0                          0.0   \n",
      "56485                          0.0                          0.0   \n",
      "57105                          0.0                          0.0   \n",
      "\n",
      "       Service Type_Scheduled Service  Bill to_GW  Bill to_INS  Bill to_P  \\\n",
      "7                                 0.0         0.0          0.0        0.0   \n",
      "8                                 0.0         0.0          0.0        0.0   \n",
      "9                                 0.0         0.0          0.0        0.0   \n",
      "10                                0.0         0.0          0.0        0.0   \n",
      "11                                0.0         0.0          0.0        0.0   \n",
      "...                               ...         ...          ...        ...   \n",
      "55544                             0.0         0.0          0.0        0.0   \n",
      "56464                             0.0         0.0          0.0        0.0   \n",
      "56473                             0.0         0.0          0.0        0.0   \n",
      "56485                             0.0         0.0          0.0        0.0   \n",
      "57105                             0.0         0.0          0.0        0.0   \n",
      "\n",
      "       Bill to_PAID  Bill to_RSA  Bill to_SM  Bill to_WTY  \n",
      "7               1.0          0.0         0.0          0.0  \n",
      "8               1.0          0.0         0.0          0.0  \n",
      "9               1.0          0.0         0.0          0.0  \n",
      "10              1.0          0.0         0.0          0.0  \n",
      "11              1.0          0.0         0.0          0.0  \n",
      "...             ...          ...         ...          ...  \n",
      "55544           1.0          0.0         0.0          0.0  \n",
      "56464           1.0          0.0         0.0          0.0  \n",
      "56473           1.0          0.0         0.0          0.0  \n",
      "56485           1.0          0.0         0.0          0.0  \n",
      "57105           1.0          0.0         0.0          0.0  \n",
      "\n",
      "[59637 rows x 22 columns]\n"
     ]
    }
   ],
   "source": [
    "# Combine both\n",
    "final_df = pd.concat([df.drop(columns=['Service Type', 'Bill to']), ohe_df], axis=1)\n",
    "\n",
    "# Print the final DataFrame\n",
    "print(final_df)"
   ]
  },
  {
   "cell_type": "code",
   "execution_count": 54,
   "id": "53e8e3ef-879a-4b25-a4eb-b54326dc8515",
   "metadata": {},
   "outputs": [
    {
     "name": "stdout",
     "output_type": "stream",
     "text": [
      "<class 'pandas.core.frame.DataFrame'>\n",
      "Index: 58539 entries, 7 to 59638\n",
      "Data columns (total 12 columns):\n",
      " #   Column              Non-Null Count  Dtype         \n",
      "---  ------              --------------  -----         \n",
      " 0   Service Type        58539 non-null  object        \n",
      " 1   Creation Date       58539 non-null  datetime64[ns]\n",
      " 2   Vehicle Sales Date  58539 non-null  datetime64[ns]\n",
      " 3   Vehicle Model       58539 non-null  int64         \n",
      " 4   Mileage             58539 non-null  int64         \n",
      " 5   Engine Hours        58539 non-null  float64       \n",
      " 6   Bill to             58539 non-null  object        \n",
      " 7   Part Amount         58539 non-null  float64       \n",
      " 8   Labour Amount       58539 non-null  float64       \n",
      " 9   Concern Code        58539 non-null  int64         \n",
      " 10  year                58539 non-null  int32         \n",
      " 11  month               58539 non-null  int32         \n",
      "dtypes: datetime64[ns](2), float64(3), int32(2), int64(3), object(2)\n",
      "memory usage: 7.4+ MB\n"
     ]
    }
   ],
   "source": [
    "df.info()"
   ]
  },
  {
   "cell_type": "code",
   "execution_count": null,
   "id": "2b691b8a-8a0f-4ab0-aa91-d442711c7130",
   "metadata": {},
   "outputs": [],
   "source": []
  },
  {
   "cell_type": "code",
   "execution_count": null,
   "id": "4163a4d7-3e3b-42fb-8919-ab1f19875854",
   "metadata": {},
   "outputs": [],
   "source": []
  }
 ],
 "metadata": {
  "kernelspec": {
   "display_name": "Python [conda env:base] *",
   "language": "python",
   "name": "conda-base-py"
  },
  "language_info": {
   "codemirror_mode": {
    "name": "ipython",
    "version": 3
   },
   "file_extension": ".py",
   "mimetype": "text/x-python",
   "name": "python",
   "nbconvert_exporter": "python",
   "pygments_lexer": "ipython3",
   "version": "3.12.7"
  }
 },
 "nbformat": 4,
 "nbformat_minor": 5
}
